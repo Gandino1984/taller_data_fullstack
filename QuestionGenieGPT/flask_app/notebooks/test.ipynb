{
 "cells": [
  {
   "metadata": {
    "ExecuteTime": {
     "end_time": "2024-06-24T10:10:43.771740Z",
     "start_time": "2024-06-24T10:10:41.883626Z"
    }
   },
   "cell_type": "code",
   "source": [
    "import pandas as pd\n",
    "from sklearn.model_selection import train_test_split\n",
    "from sklearn.linear_model import LinearRegression\n",
    "from sklearn.metrics import mean_squared_error\n",
    "import pickle\n",
    "\n",
    "# Cargar el DataFrame\n",
    "df = pd.read_csv('housing/housing.csv')\n",
    "\n",
    "# Reemplazar los valores -1 por NaN\n",
    "df.replace(-1, pd.NA, inplace=True)\n",
    "\n",
    "# Eliminar filas con valores nulos o NaN\n",
    "df.dropna(inplace=True)\n",
    "\n",
    "# Definir las variables predictoras X y la variable objetivo y\n",
    "X = df[['surface', 'bedrooms', 'restrooms']]\n",
    "y = df['price']\n",
    "\n",
    "# Dividir los datos en conjuntos de entrenamiento y prueba\n",
    "X_train, X_test, y_train, y_test = train_test_split(X, y, test_size=0.2, random_state=42)\n",
    "\n",
    "# Crear una instancia del modelo\n",
    "model = LinearRegression()\n",
    "\n",
    "# Entrenar el modelo con los datos de entrenamiento\n",
    "model.fit(X_train, y_train)\n",
    "\n",
    "# Realizar predicciones con los datos de prueba\n",
    "y_pred = model.predict(X_test)\n",
    "\n",
    "# Calcular el error cuadrático medio (MSE) para evaluar el rendimiento del modelo\n",
    "mse = mean_squared_error(y_test, y_pred)\n",
    "\n",
    "print(f'MSE: {mse}')\n",
    "\n",
    "# Guardar el modelo entrenado en un archivo\n",
    "with open('model.pkl', 'wb') as file:\n",
    "    pickle.dump(model, file)\n"
   ],
   "outputs": [
    {
     "name": "stdout",
     "output_type": "stream",
     "text": [
      "MSE: 431823241.6782735\n"
     ]
    }
   ],
   "execution_count": 3
  }
 ],
 "metadata": {
  "kernelspec": {
   "display_name": "Python 3 (ipykernel)",
   "language": "python",
   "name": "python3"
  },
  "language_info": {
   "codemirror_mode": {
    "name": "ipython",
    "version": 3
   },
   "file_extension": ".py",
   "mimetype": "text/x-python",
   "name": "python",
   "nbconvert_exporter": "python",
   "pygments_lexer": "ipython3",
   "version": "3.11.5"
  }
 },
 "nbformat": 4,
 "nbformat_minor": 4
}
